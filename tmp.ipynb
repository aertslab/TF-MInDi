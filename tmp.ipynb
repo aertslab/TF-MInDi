{
 "cells": [
  {
   "cell_type": "code",
   "execution_count": 1,
   "id": "154bbcf9",
   "metadata": {},
   "outputs": [
    {
     "name": "stderr",
     "output_type": "stream",
     "text": [
      "/home/luna.kuleuven.be/u0166574/.local/share/hatch/env/virtual/tfmindi/OeeCTRxT/docs/lib/python3.12/site-packages/numba/cpython/old_hashing.py:477: UserWarning: FNV hashing is not implemented in Numba. See PEP 456 https://www.python.org/dev/peps/pep-0456/ for rationale over not using FNV. Numba will continue to work, but hashes for built in types will be computed using siphash24. This will permit e.g. dictionaries to continue to behave as expected, however anything relying on the value of the hash opposed to hash as a derived property is likely to not work as expected.\n",
      "  warnings.warn(msg)\n"
     ]
    }
   ],
   "source": [
    "import numpy as np\n",
    "\n",
    "import tfmindi as tm"
   ]
  },
  {
   "cell_type": "code",
   "execution_count": 2,
   "id": "e8170f45",
   "metadata": {},
   "outputs": [],
   "source": [
    "motif_collection_dir = tm.fetch_motif_collection()\n",
    "motif_annotations_file = tm.fetch_motif_annotations()"
   ]
  },
  {
   "cell_type": "code",
   "execution_count": 3,
   "id": "bc9eab39",
   "metadata": {},
   "outputs": [],
   "source": [
    "motif_collection = tm.load_motif_collection(motif_collection_dir)\n",
    "motif_annotations = tm.load_motif_annotations(motif_annotations_file)"
   ]
  },
  {
   "cell_type": "code",
   "execution_count": 4,
   "id": "bd274afb",
   "metadata": {},
   "outputs": [],
   "source": [
    "motif_to_db = tm.load_motif_to_dbd(motif_annotations)  # dict of motif to dbd"
   ]
  },
  {
   "cell_type": "code",
   "execution_count": 5,
   "id": "00cf5abf",
   "metadata": {},
   "outputs": [],
   "source": [
    "oh_path = \"tests/data/sample_oh.npz\"\n",
    "contrib_path = \"tests/data/sample_contrib.npz\"\n",
    "\n",
    "oh = np.load(oh_path)[\"oh\"]\n",
    "contrib = np.load(contrib_path)[\"contrib\"]"
   ]
  },
  {
   "cell_type": "code",
   "execution_count": 6,
   "id": "91a0a775",
   "metadata": {},
   "outputs": [
    {
     "name": "stderr",
     "output_type": "stream",
     "text": [
      "Processing seqlets: 100%|██████████| 295/295 [00:00<00:00, 8398.80it/s]\n"
     ]
    }
   ],
   "source": [
    "seqlets_df, seqlets_matrix = tm.pp.extract_seqlets(contrib=contrib, oh=oh, threshold=0.05, additional_flanks=3)"
   ]
  },
  {
   "cell_type": "code",
   "execution_count": 7,
   "id": "96bc0c15",
   "metadata": {},
   "outputs": [
    {
     "data": {
      "text/html": [
       "<div>\n",
       "<style scoped>\n",
       "    .dataframe tbody tr th:only-of-type {\n",
       "        vertical-align: middle;\n",
       "    }\n",
       "\n",
       "    .dataframe tbody tr th {\n",
       "        vertical-align: top;\n",
       "    }\n",
       "\n",
       "    .dataframe thead th {\n",
       "        text-align: right;\n",
       "    }\n",
       "</style>\n",
       "<table border=\"1\" class=\"dataframe\">\n",
       "  <thead>\n",
       "    <tr style=\"text-align: right;\">\n",
       "      <th></th>\n",
       "      <th>example_idx</th>\n",
       "      <th>start</th>\n",
       "      <th>end</th>\n",
       "      <th>attribution</th>\n",
       "      <th>p-value</th>\n",
       "    </tr>\n",
       "  </thead>\n",
       "  <tbody>\n",
       "    <tr>\n",
       "      <th>0</th>\n",
       "      <td>24</td>\n",
       "      <td>59</td>\n",
       "      <td>76</td>\n",
       "      <td>-0.467904</td>\n",
       "      <td>1.887379e-15</td>\n",
       "    </tr>\n",
       "    <tr>\n",
       "      <th>1</th>\n",
       "      <td>31</td>\n",
       "      <td>178</td>\n",
       "      <td>198</td>\n",
       "      <td>1.294061</td>\n",
       "      <td>2.467105e-04</td>\n",
       "    </tr>\n",
       "    <tr>\n",
       "      <th>2</th>\n",
       "      <td>28</td>\n",
       "      <td>299</td>\n",
       "      <td>318</td>\n",
       "      <td>-0.457312</td>\n",
       "      <td>7.206342e-04</td>\n",
       "    </tr>\n",
       "    <tr>\n",
       "      <th>3</th>\n",
       "      <td>24</td>\n",
       "      <td>306</td>\n",
       "      <td>324</td>\n",
       "      <td>0.948738</td>\n",
       "      <td>7.408627e-04</td>\n",
       "    </tr>\n",
       "    <tr>\n",
       "      <th>4</th>\n",
       "      <td>32</td>\n",
       "      <td>455</td>\n",
       "      <td>480</td>\n",
       "      <td>1.100183</td>\n",
       "      <td>1.234263e-03</td>\n",
       "    </tr>\n",
       "  </tbody>\n",
       "</table>\n",
       "</div>"
      ],
      "text/plain": [
       "   example_idx  start  end  attribution       p-value\n",
       "0           24     59   76    -0.467904  1.887379e-15\n",
       "1           31    178  198     1.294061  2.467105e-04\n",
       "2           28    299  318    -0.457312  7.206342e-04\n",
       "3           24    306  324     0.948738  7.408627e-04\n",
       "4           32    455  480     1.100183  1.234263e-03"
      ]
     },
     "execution_count": 7,
     "metadata": {},
     "output_type": "execute_result"
    }
   ],
   "source": [
    "seqlets_df.head()  # Display the first few rows of the extracted seqlets DataFrame"
   ]
  },
  {
   "cell_type": "code",
   "execution_count": 8,
   "id": "ef214f26",
   "metadata": {},
   "outputs": [
    {
     "name": "stdout",
     "output_type": "stream",
     "text": [
      "(4, 17)\n",
      "295\n"
     ]
    }
   ],
   "source": [
    "print(seqlets_matrix[0].shape)\n",
    "print(len(seqlets_matrix))"
   ]
  },
  {
   "cell_type": "code",
   "execution_count": 9,
   "id": "fa31fb12",
   "metadata": {},
   "outputs": [],
   "source": [
    "sim_matrix = tm.pp.calculate_motif_similarity(seqlets_matrix, motif_collection)"
   ]
  },
  {
   "cell_type": "code",
   "execution_count": 10,
   "id": "60b109bf",
   "metadata": {},
   "outputs": [
    {
     "data": {
      "text/plain": [
       "(295, 17995)"
      ]
     },
     "execution_count": 10,
     "metadata": {},
     "output_type": "execute_result"
    }
   ],
   "source": [
    "sim_matrix.shape"
   ]
  },
  {
   "cell_type": "code",
   "execution_count": 11,
   "id": "51a5dc24",
   "metadata": {},
   "outputs": [
    {
     "data": {
      "text/plain": [
       "AnnData object with n_obs × n_vars = 295 × 17995\n",
       "    obs: 'example_idx', 'start', 'end', 'attribution', 'p-value', 'seqlet_matrix', 'seqlet_oh', 'example_oh', 'example_contrib'\n",
       "    var: 'motif_pwm', 'Direct_annot', 'Motif_similarity_annot', 'Orthology_annot', 'Motif_similarity_and_Orthology_annot', 'dbd'"
      ]
     },
     "execution_count": 11,
     "metadata": {},
     "output_type": "execute_result"
    }
   ],
   "source": [
    "# Test with full new storage approach including motif annotations\n",
    "adata = tm.pp.create_seqlet_adata(\n",
    "    sim_matrix,\n",
    "    seqlets_df,\n",
    "    seqlet_matrices=seqlets_matrix,\n",
    "    oh_sequences=oh,\n",
    "    contrib_scores=contrib,\n",
    "    motif_collection=motif_collection,\n",
    "    motif_annotations=motif_annotations,\n",
    "    motif_to_dbd=motif_to_db,\n",
    ")\n",
    "adata"
   ]
  },
  {
   "cell_type": "code",
   "execution_count": 12,
   "id": "fc304304",
   "metadata": {},
   "outputs": [
    {
     "name": "stdout",
     "output_type": "stream",
     "text": [
      "Computing PCA...\n",
      "Computing neighborhood graph...\n"
     ]
    },
    {
     "name": "stderr",
     "output_type": "stream",
     "text": [
      "/home/luna.kuleuven.be/u0166574/.local/share/hatch/env/virtual/tfmindi/OeeCTRxT/docs/lib/python3.12/site-packages/tqdm/auto.py:21: TqdmWarning: IProgress not found. Please update jupyter and ipywidgets. See https://ipywidgets.readthedocs.io/en/stable/user_install.html\n",
      "  from .autonotebook import tqdm as notebook_tqdm\n"
     ]
    },
    {
     "name": "stdout",
     "output_type": "stream",
     "text": [
      "Computing t-SNE embedding...\n",
      "Performing Leiden clustering with resolution 3.0...\n",
      "Clustering complete. Found 21 clusters.\n",
      "DBD annotation coverage: 234/295 seqlets\n"
     ]
    }
   ],
   "source": [
    "tm.tl.cluster_seqlets(adata, resolution=3.0)"
   ]
  },
  {
   "cell_type": "code",
   "execution_count": 13,
   "id": "e908e2a9",
   "metadata": {},
   "outputs": [
    {
     "data": {
      "text/html": [
       "<div>\n",
       "<style scoped>\n",
       "    .dataframe tbody tr th:only-of-type {\n",
       "        vertical-align: middle;\n",
       "    }\n",
       "\n",
       "    .dataframe tbody tr th {\n",
       "        vertical-align: top;\n",
       "    }\n",
       "\n",
       "    .dataframe thead th {\n",
       "        text-align: right;\n",
       "    }\n",
       "</style>\n",
       "<table border=\"1\" class=\"dataframe\">\n",
       "  <thead>\n",
       "    <tr style=\"text-align: right;\">\n",
       "      <th></th>\n",
       "      <th>example_idx</th>\n",
       "      <th>start</th>\n",
       "      <th>end</th>\n",
       "      <th>attribution</th>\n",
       "      <th>p-value</th>\n",
       "      <th>seqlet_matrix</th>\n",
       "      <th>seqlet_oh</th>\n",
       "      <th>example_oh</th>\n",
       "      <th>example_contrib</th>\n",
       "      <th>leiden</th>\n",
       "      <th>mean_contrib</th>\n",
       "      <th>seqlet_dbd</th>\n",
       "      <th>cluster_dbd</th>\n",
       "    </tr>\n",
       "  </thead>\n",
       "  <tbody>\n",
       "    <tr>\n",
       "      <th>0</th>\n",
       "      <td>24</td>\n",
       "      <td>59</td>\n",
       "      <td>76</td>\n",
       "      <td>-0.467904</td>\n",
       "      <td>1.887379e-15</td>\n",
       "      <td>[[-0.0011337847152989144, 0.039029417622873375...</td>\n",
       "      <td>[[0.0, 0.0, 0.0, 1.0, 1.0, 0.0, 0.0, 1.0, 0.0,...</td>\n",
       "      <td>[[0.0, 0.0, 0.0, 0.0, 0.0, 0.0, 1.0, 0.0, 0.0,...</td>\n",
       "      <td>[[0.00199191365391016, 0.00013025905354879797,...</td>\n",
       "      <td>0</td>\n",
       "      <td>0.201815</td>\n",
       "      <td>None</td>\n",
       "      <td>NaN</td>\n",
       "    </tr>\n",
       "    <tr>\n",
       "      <th>1</th>\n",
       "      <td>31</td>\n",
       "      <td>178</td>\n",
       "      <td>198</td>\n",
       "      <td>1.294061</td>\n",
       "      <td>2.467105e-04</td>\n",
       "      <td>[[0.22378262176327485, 0.02587442114950032, -0...</td>\n",
       "      <td>[[1.0, 0.0, 0.0, 0.0, 1.0, 0.0, 1.0, 0.0, 0.0,...</td>\n",
       "      <td>[[0.0, 0.0, 1.0, 0.0, 0.0, 0.0, 0.0, 0.0, 0.0,...</td>\n",
       "      <td>[[-0.001131125376559794, -0.000327722518704831...</td>\n",
       "      <td>1</td>\n",
       "      <td>0.212963</td>\n",
       "      <td>None</td>\n",
       "      <td>NaN</td>\n",
       "    </tr>\n",
       "    <tr>\n",
       "      <th>2</th>\n",
       "      <td>28</td>\n",
       "      <td>299</td>\n",
       "      <td>318</td>\n",
       "      <td>-0.457312</td>\n",
       "      <td>7.206342e-04</td>\n",
       "      <td>[[0.09934498645434618, -0.09970337874610243, 0...</td>\n",
       "      <td>[[0.0, 0.0, 0.0, 1.0, 1.0, 1.0, 0.0, 0.0, 0.0,...</td>\n",
       "      <td>[[0.0, 0.0, 0.0, 1.0, 0.0, 0.0, 0.0, 1.0, 0.0,...</td>\n",
       "      <td>[[-0.0005060430848971009, -0.00117746787145733...</td>\n",
       "      <td>2</td>\n",
       "      <td>0.170461</td>\n",
       "      <td>None</td>\n",
       "      <td>C2H2 ZF; Homeodomain</td>\n",
       "    </tr>\n",
       "  </tbody>\n",
       "</table>\n",
       "</div>"
      ],
      "text/plain": [
       "   example_idx  start  end  attribution       p-value  \\\n",
       "0           24     59   76    -0.467904  1.887379e-15   \n",
       "1           31    178  198     1.294061  2.467105e-04   \n",
       "2           28    299  318    -0.457312  7.206342e-04   \n",
       "\n",
       "                                       seqlet_matrix  \\\n",
       "0  [[-0.0011337847152989144, 0.039029417622873375...   \n",
       "1  [[0.22378262176327485, 0.02587442114950032, -0...   \n",
       "2  [[0.09934498645434618, -0.09970337874610243, 0...   \n",
       "\n",
       "                                           seqlet_oh  \\\n",
       "0  [[0.0, 0.0, 0.0, 1.0, 1.0, 0.0, 0.0, 1.0, 0.0,...   \n",
       "1  [[1.0, 0.0, 0.0, 0.0, 1.0, 0.0, 1.0, 0.0, 0.0,...   \n",
       "2  [[0.0, 0.0, 0.0, 1.0, 1.0, 1.0, 0.0, 0.0, 0.0,...   \n",
       "\n",
       "                                          example_oh  \\\n",
       "0  [[0.0, 0.0, 0.0, 0.0, 0.0, 0.0, 1.0, 0.0, 0.0,...   \n",
       "1  [[0.0, 0.0, 1.0, 0.0, 0.0, 0.0, 0.0, 0.0, 0.0,...   \n",
       "2  [[0.0, 0.0, 0.0, 1.0, 0.0, 0.0, 0.0, 1.0, 0.0,...   \n",
       "\n",
       "                                     example_contrib leiden  mean_contrib  \\\n",
       "0  [[0.00199191365391016, 0.00013025905354879797,...      0      0.201815   \n",
       "1  [[-0.001131125376559794, -0.000327722518704831...      1      0.212963   \n",
       "2  [[-0.0005060430848971009, -0.00117746787145733...      2      0.170461   \n",
       "\n",
       "  seqlet_dbd           cluster_dbd  \n",
       "0       None                   NaN  \n",
       "1       None                   NaN  \n",
       "2       None  C2H2 ZF; Homeodomain  "
      ]
     },
     "execution_count": 13,
     "metadata": {},
     "output_type": "execute_result"
    }
   ],
   "source": [
    "adata.obs.head(3)"
   ]
  },
  {
   "cell_type": "code",
   "execution_count": 14,
   "id": "fc9b036a",
   "metadata": {},
   "outputs": [
    {
     "name": "stdout",
     "output_type": "stream",
     "text": [
      "Creating patterns for 21 clusters...\n",
      "Warning: Seqlet 197 exceeds sequence bounds, skipping alignment\n",
      "Warning: Seqlet 267 exceeds sequence bounds, skipping alignment\n"
     ]
    }
   ],
   "source": [
    "patterns = tm.tl.create_patterns(adata)"
   ]
  },
  {
   "cell_type": "code",
   "execution_count": 15,
   "id": "0f0c6685",
   "metadata": {},
   "outputs": [],
   "source": [
    "tm.save_h5ad(adata, \"sample_adata.h5ad\")"
   ]
  }
 ],
 "metadata": {
  "kernelspec": {
   "display_name": "docs",
   "language": "python",
   "name": "python3"
  },
  "language_info": {
   "codemirror_mode": {
    "name": "ipython",
    "version": 3
   },
   "file_extension": ".py",
   "mimetype": "text/x-python",
   "name": "python",
   "nbconvert_exporter": "python",
   "pygments_lexer": "ipython3",
   "version": "3.12.8"
  }
 },
 "nbformat": 4,
 "nbformat_minor": 5
}
